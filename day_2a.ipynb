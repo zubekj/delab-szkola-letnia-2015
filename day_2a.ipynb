{
 "cells": [
  {
   "cell_type": "markdown",
   "metadata": {},
   "source": [
    "# Python jako język programistyczny\n",
    "\n",
    "[tutaj motywujący przykład wykorzystania technik programistycznych w prostej analizie danych]"
   ]
  },
  {
   "cell_type": "markdown",
   "metadata": {},
   "source": [
    "## Gotuj z Pythonem\n",
    "\n",
    "Python należy do tak zwanych imperatywnych języków programowania. Oznacza to, że programy w nim pisane składają się\n",
    "z ciągu instrukcji, które komputer wykonuje krok po kroku. Dobrym skojarzeniem może być porównanie programu\n",
    "komputerowego do przepisu kulinarnego. Przyjrzyjmy się instrukcjom przygotowania holenderskiego wypieku:   "
   ]
  },
  {
   "cell_type": "markdown",
   "metadata": {},
   "source": [
    "### Appelflap\n",
    "\n",
    "** Składniki **\n",
    "\n",
    "* jabłka\n",
    "* cukier\n",
    "* sproszkowany cynamon\n",
    "* esencja rumowa\n",
    "* rodzynki\n",
    "* sos z cytryny\n",
    "* ciasto francuskie (własnej produkcji lub gotowe i rozmrożone)\n",
    "* mąka\n",
    "* jajko\n",
    "\n",
    "** Przygotowanie **\n",
    "\n",
    "1. Jabłka obrać się ze skórki, pokroić na ćwiartki, usunąć gniazda nasienne, po czym pokroić na drobne kawałki.\n",
    "2. Do pokrojonych jabłek dodać cukier, uprzednio namoczone rodzynki oraz sproszkowany cynamon i esencję rumową do smaku, ewentualnie doprawić sokiem z cytryny i dokładnie zamieszać łyżką drewnianą w misce.\n",
    "3. Z ciasta francuskiego, przygotowanego na bazie masła i rozwałkowanego na stolnicy uprzednio posypanej mąką, wyciąć kwadraty o boku 12–15 cm i na każdy nałożyć dużą porcję nadzienia, po czym złożyć zwilżone brzegi na kształt trójkąta i zlepić.\n",
    "4. Ciastka posmarować po wierzchu roztrzepanym jajkiem i posypać cukrem kryształem.\n",
    "5. Piec w uprzednio nagrzanym do 200 °C piekarniku przez około 25 minut. Po upieczeniu ciastka mają złocisto-brązowy kolor i są chrupiące.\n",
    "\n",
    "Źródło: http://pl.wikibooks.org/wiki/Książka_kucharska/Appelflap"
   ]
  },
  {
   "cell_type": "markdown",
   "metadata": {},
   "source": [
    "## Funkcje\n",
    "\n",
    "[podkreślenie braku różnicy pomiędzy funkcją a zmienną]\n",
    "\n",
    "[ćwiczenie z rozpisaniem kawałka kodu na funkcje]"
   ]
  },
  {
   "cell_type": "markdown",
   "metadata": {},
   "source": [
    "## Typy danych\n",
    "\n",
    "[przyprawy pełnią inną rolę niż mięso]\n",
    "\n",
    "[liczby naturalne, liczby rzeczywiste, ciągi znaków, krotki]"
   ]
  },
  {
   "cell_type": "markdown",
   "metadata": {},
   "source": [
    "## Instrukcje warunkowe\n",
    "\n",
    "[\"jeśli potrawka zrobiła się zbyt gęsta, dolej wody\"]\n",
    "\n",
    "[ćwiczenie z rekrutacją koszykarzy]"
   ]
  },
  {
   "cell_type": "markdown",
   "metadata": {},
   "source": [
    "## Pętle"
   ]
  },
  {
   "cell_type": "markdown",
   "metadata": {},
   "source": [
    "## Kolekcje\n",
    "\n",
    "[listy, słowniki, obiekty]\n",
    "\n",
    "[obiekt jest kolekcją]"
   ]
  },
  {
   "cell_type": "code",
   "execution_count": null,
   "metadata": {
    "collapsed": true
   },
   "outputs": [],
   "source": []
  }
 ],
 "metadata": {
  "kernelspec": {
   "display_name": "Python 3",
   "language": "python",
   "name": "python3"
  },
  "language_info": {
   "codemirror_mode": {
    "name": "ipython",
    "version": 3
   },
   "file_extension": ".py",
   "mimetype": "text/x-python",
   "name": "python",
   "nbconvert_exporter": "python",
   "pygments_lexer": "ipython3",
   "version": "3.4.3"
  }
 },
 "nbformat": 4,
 "nbformat_minor": 0
}
