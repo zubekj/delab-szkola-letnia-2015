{
 "cells": [
  {
   "cell_type": "markdown",
   "metadata": {},
   "source": [
    "# Python jako język programistyczny\n",
    "\n",
    "[tutaj motywujący przykład wykorzystania technik programistycznych w prostej analizie danych]"
   ]
  },
  {
   "cell_type": "markdown",
   "metadata": {},
   "source": [
    "## Gotuj z Pythonem\n",
    "\n",
    "Python należy do tak zwanych imperatywnych języków programowania. Oznacza to, że programy w nim pisane składają się\n",
    "z ciągu instrukcji, które komputer wykonuje krok po kroku. Dobrym skojarzeniem może być porównanie programu\n",
    "komputerowego do przepisu kulinarnego. Przyjrzyjmy się instrukcjom przygotowania holenderskiego wypieku:   "
   ]
  },
  {
   "cell_type": "markdown",
   "metadata": {},
   "source": [
    "### Appelflap\n",
    "\n",
    "<img src=\"Appelflap.jpg\" width=\"300px\" />\n",
    "\n",
    "** Składniki **\n",
    "\n",
    "* jabłka\n",
    "* cukier\n",
    "* sproszkowany cynamon\n",
    "* esencja rumowa\n",
    "* rodzynki\n",
    "* sos z cytryny\n",
    "* ciasto francuskie (własnej produkcji lub gotowe i rozmrożone)\n",
    "* mąka\n",
    "* jajko\n",
    "\n",
    "** Przygotowanie **\n",
    "\n",
    "1. Jabłka obrać się ze skórki, pokroić na ćwiartki, usunąć gniazda nasienne, po czym pokroić na drobne kawałki.\n",
    "2. Do pokrojonych jabłek dodać cukier, uprzednio namoczone rodzynki oraz sproszkowany cynamon i esencję rumową do smaku, ewentualnie doprawić sokiem z cytryny i dokładnie zamieszać łyżką drewnianą w misce.\n",
    "3. Z ciasta francuskiego, przygotowanego na bazie masła i rozwałkowanego na stolnicy uprzednio posypanej mąką, wyciąć kwadraty o boku 12–15 cm i na każdy nałożyć dużą porcję nadzienia, po czym złożyć zwilżone brzegi na kształt trójkąta i zlepić.\n",
    "4. Ciastka posmarować po wierzchu roztrzepanym jajkiem i posypać cukrem kryształem.\n",
    "5. Piec w uprzednio nagrzanym do 200 °C piekarniku przez około 25 minut. Po upieczeniu ciastka mają złocisto-brązowy kolor i są chrupiące.\n",
    "\n",
    "Źródło: http://pl.wikibooks.org/wiki/Książka_kucharska/Appelflap"
   ]
  },
  {
   "cell_type": "markdown",
   "metadata": {},
   "source": [
    "Przepis składa się z listy składników i ciągu instrukcji. W Pythonie rolę składników pełnią zmienne:"
   ]
  },
  {
   "cell_type": "code",
   "execution_count": 4,
   "metadata": {
    "collapsed": false
   },
   "outputs": [
    {
     "name": "stdout",
     "output_type": "stream",
     "text": [
      "2\n",
      "3.4\n",
      "2\n",
      "\n",
      "4\n",
      "2\n"
     ]
    }
   ],
   "source": [
    "x = 2\n",
    "y = 3.4\n",
    "z = x\n",
    "\n",
    "print(x)\n",
    "print(y)\n",
    "print(z)\n",
    "# z jest równe x\n",
    "\n",
    "print(\"\")\n",
    "\n",
    "x = 4\n",
    "print(x)\n",
    "print(z)\n",
    "# z nie jest równe x"
   ]
  },
  {
   "cell_type": "markdown",
   "metadata": {},
   "source": [
    "Rozważmy przepis na pole prostokąta:"
   ]
  },
  {
   "cell_type": "code",
   "execution_count": 16,
   "metadata": {
    "collapsed": false
   },
   "outputs": [
    {
     "data": {
      "text/plain": [
       "12.5"
      ]
     },
     "execution_count": 16,
     "metadata": {},
     "output_type": "execute_result"
    }
   ],
   "source": [
    "dlugosc_boku_a = 2.5\n",
    "dlugosc_boku_b = 5\n",
    "pole_prostokata = dlugosc_boku_a * dlugosc_boku_b\n",
    "pole_prostokata"
   ]
  },
  {
   "cell_type": "markdown",
   "metadata": {},
   "source": [
    "## Funkcje\n",
    "\n",
    "Czasem pewnie ciągi instrukcji pojawiają się w wielu przepisach. W takiej sytuacji wygodnie jest umieścić je w książce kucharskiej jako osobny przepis, a w pozostałych miejscach umieścić odsyłacze. Przykładowo, możemy napotkać takie odnośniki:\n",
    "\n",
    "    (...) Przygotować ciasto naleśnikowe według przepisu (s. 123), dodając dwie łyżki cukru.\n",
    "    (...) Przygotować ciasto naleśnikowe według przepisu (s. 123), zamiast wody używając piwa.\n",
    "\n",
    "Oznacza to wykonanie stosownych instrukcji z uwzględnieniem dodatkowych parametrów. W Pythonie rolę takich odnośników pełnią fukcje."
   ]
  },
  {
   "cell_type": "code",
   "execution_count": 18,
   "metadata": {
    "collapsed": false
   },
   "outputs": [],
   "source": [
    "def pole_prostokata(a, b):\n",
    "    return a*b"
   ]
  },
  {
   "cell_type": "markdown",
   "metadata": {},
   "source": [
    "Nazwa funkcji to zwykła zmienna, przechowująca specjalną wartość:"
   ]
  },
  {
   "cell_type": "code",
   "execution_count": 19,
   "metadata": {
    "collapsed": false
   },
   "outputs": [
    {
     "data": {
      "text/plain": [
       "<function __main__.pole_prostokata>"
      ]
     },
     "execution_count": 19,
     "metadata": {},
     "output_type": "execute_result"
    }
   ],
   "source": [
    "pole_prostokata"
   ]
  },
  {
   "cell_type": "markdown",
   "metadata": {},
   "source": [
    "Funkcję wywołujemy poprzez dodanie nawiasów i parametrów:"
   ]
  },
  {
   "cell_type": "code",
   "execution_count": 15,
   "metadata": {
    "collapsed": false
   },
   "outputs": [
    {
     "data": {
      "text/plain": [
       "12.5"
      ]
     },
     "execution_count": 15,
     "metadata": {},
     "output_type": "execute_result"
    }
   ],
   "source": [
    "pole_prostokata(2.5, 5)"
   ]
  },
  {
   "cell_type": "markdown",
   "metadata": {},
   "source": [
    "[ćwiczenie z rozpisaniem kawałka kodu na funkcje]"
   ]
  },
  {
   "cell_type": "markdown",
   "metadata": {},
   "source": [
    "## Typy danych\n",
    "\n",
    "[przyprawy pełnią inną rolę niż mięso]\n",
    "\n",
    "[liczby naturalne, liczby rzeczywiste, ciągi znaków, krotki]"
   ]
  },
  {
   "cell_type": "markdown",
   "metadata": {},
   "source": [
    "## Instrukcje warunkowe\n",
    "\n",
    "[\"jeśli potrawka zrobiła się zbyt gęsta, dolej wody\"]\n",
    "\n",
    "[ćwiczenie z rekrutacją koszykarzy]"
   ]
  },
  {
   "cell_type": "markdown",
   "metadata": {},
   "source": [
    "## Pętle"
   ]
  },
  {
   "cell_type": "markdown",
   "metadata": {},
   "source": [
    "## Kolekcje\n",
    "\n",
    "[listy, słowniki, obiekty]\n",
    "\n",
    "[obiekt jest kolekcją]"
   ]
  },
  {
   "cell_type": "code",
   "execution_count": null,
   "metadata": {
    "collapsed": true
   },
   "outputs": [],
   "source": []
  }
 ],
 "metadata": {
  "kernelspec": {
   "display_name": "Python 3",
   "language": "python",
   "name": "python3"
  },
  "language_info": {
   "codemirror_mode": {
    "name": "ipython",
    "version": 3
   },
   "file_extension": ".py",
   "mimetype": "text/x-python",
   "name": "python",
   "nbconvert_exporter": "python",
   "pygments_lexer": "ipython3",
   "version": "3.4.3"
  }
 },
 "nbformat": 4,
 "nbformat_minor": 0
}
